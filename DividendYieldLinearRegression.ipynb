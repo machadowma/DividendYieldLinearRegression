{
  "nbformat": 4,
  "nbformat_minor": 0,
  "metadata": {
    "colab": {
      "name": "DividendYieldLinearRegression.ipynb",
      "provenance": [],
      "authorship_tag": "ABX9TyOmgfOUIVQiaWszw9XcjduT",
      "include_colab_link": true
    },
    "kernelspec": {
      "name": "python3",
      "display_name": "Python 3"
    }
  },
  "cells": [
    {
      "cell_type": "markdown",
      "metadata": {
        "id": "view-in-github",
        "colab_type": "text"
      },
      "source": [
        "<a href=\"https://colab.research.google.com/github/machadowma/DividendYieldLinearRegression/blob/master/DividendYieldLinearRegression.ipynb\" target=\"_parent\"><img src=\"https://colab.research.google.com/assets/colab-badge.svg\" alt=\"Open In Colab\"/></a>"
      ]
    },
    {
      "cell_type": "markdown",
      "metadata": {
        "id": "BGXMZrmObEEI",
        "colab_type": "text"
      },
      "source": [
        "#  Análise de Dividendos de Ações na Bolsa de Valores Utilizando Regressão Linear\n",
        "\n",
        "O presente trabalho utiliza *Linear Regression* sobre a cotação e o retorno em dividendos de ações na bolsa de valores para encontrar as empresas que oferecem maior retorno em dividendos para o valor investido. Os resultados demonstram que existe relação linear entre a cotação das ações e o total de dividendos pagos e que é possível encontrar as ações que apresentam Dividend yield mais atrativo."
      ]
    },
    {
      "cell_type": "markdown",
      "metadata": {
        "id": "opXPAteUYjNm",
        "colab_type": "text"
      },
      "source": [
        "# Introdução\n",
        "\n",
        "\n",
        "\n"
      ]
    },
    {
      "cell_type": "markdown",
      "metadata": {
        "id": "NdaP6iIvepmI",
        "colab_type": "text"
      },
      "source": [
        "Conforme estudo divuldado pela B3 [[8]](http://www.b3.com.br) em 2020, o marco de 2 milhões de investidores pessoa física foi atingido em abril do mesmo ano. De forma geral, o perfil dos novos investidores na bolsa de valores brasileira é de jovens que se preocupam em diversificar seus investimentos e demonstram uma visão de longo prazo [[1]](http://www.b3.com.br/pt_br/noticias/pessoa-fisica.htm).\n",
        "\n",
        "Conforme Tiago Reis, fundador da Suno Research, uma estratégia eficaz para se obter lucros no longo prazo é  investir em ações com foco em dividendos [[2]](https://www.sunoresearch.com.br/artigos/investir-em-dividendos/), que são os pagamentos realizados por empresas a seus acionistas, geralmente trimestralmente ou semestralmente [[3]](https://www.schwab.com/active-trader/insights/content/dividend-yield-and-dividend-growth-fundamental-value-analytics).\n",
        "\n",
        "Contudo, a escolha da ação a ser comprada demanda estudo minucioso de diversas métricas, como ROE, PL, EBITDA e nível de endividamento [[4]](https://www.youtube.com/watch?v=ARHsj34MDKw). Entre as diversas métricas existentes para analizar uma ação, o *Dividend Yield*, que resulta da divisão dos dividendos pagos nos últimos doze meses pela cotação atual da ação [[5]](https://www.sunoresearch.com.br/artigos/dividendos/#9), é bastante utilizado pelos investidores. Décio Bazin sugere que o investidor procure empresas que paguem mais de 6% de *Dividend Yield* [[6]](https://www.sunoresearch.com.br/artigos/resenha-de-livro-faca-fortuna-com-acoes-antes-que-seja-tarde-de-decio-bazin/). Ademais, Louise Barsi, filha do investidor e bilionário Luiz Brasi, recomenda a compra de ações de empresas que façam parte de setores considerados perenes, como a geração e transmissão de energia elétrica [[7]](https://exame.com/mercados/louise-barsi-ensina-como-investir-como-o-pai-bilionario/).\n",
        "\n",
        "\n",
        "A avaliação desses parâmetro tende a ser uma tarefa complexa, especialmente para os novos investidores da bolsa de valores que ainda não possuem conhecimento e experiência. Nesse sentido, softwares baseados em modelos matemáticos e até mesmo em inteligência artificial podem auxiliar na identificação das empresas que apresentem as melhores condições para o investidor interessado em recebimento de dividendos no longo prazo.\n",
        "\n",
        "Logo, o objetivo do presente trabalho é explorar o uso de *Machine Learning* [[14]](https://developers.google.com/machine-learning/crash-course/ml-intro) na análise do *Dividend yield*. Mais especificamente,  a cotação e o retorno em dividendos de empresas do setor de elétrico listadas na B3 é analizado utilizando *Linear Regression* [[9]](https://spin.atomicobject.com/2014/06/24/gradient-descent-linear-regression/) [[10]](https://towardsdatascience.com/linear-regression-using-gradient-descent-97a6c8700931) [[11]](https://towardsdatascience.com/gradient-descent-from-scratch-e8b75fa986cc) [[12]](https://machinelearningmastery.com/implement-linear-regression-stochastic-gradient-descent-scratch-python/) [[13]](https://www.deeplearningbook.org/).\n",
        "\n",
        "O algoritmo é desenvolvido utilizando as bibliotecas TensorFlow, Keras e Pandas [[15]](https://www.machinelearningmindset.com/linear-regression-with-tensorflow/) [[16]](https://www.tensorflow.org/) [[17]](https://keras.io/) [[18]](https://pandas.pydata.org/) disponíveis na ferramenta Google Colaboratory [[19]](https://colab.research.google.com/notebooks/intro.ipynb#scrollTo=OwuxHmxllTwN). O código é todo baseado no tutorial introdutório do Google Colab, \"Simple Linear Regression with Synthetic Data\" [[20]](https://colab.research.google.com/github/google/eng-edu/blob/master/ml/cc/exercises/linear_regression_with_synthetic_data.ipynb?hl=en).\n",
        "\n",
        "Os resultados demonstram que existe relação linear entre a cotação das ações e o total de dividendos pagos e que é possível encontrar as ações que apresentam *Dividend yield* mais atrativo.\n",
        "\n"
      ]
    },
    {
      "cell_type": "markdown",
      "metadata": {
        "id": "4PPYE6zieD78",
        "colab_type": "text"
      },
      "source": [
        "# Desenvolvimento"
      ]
    },
    {
      "cell_type": "markdown",
      "metadata": {
        "id": "JADt-baZb3K8",
        "colab_type": "text"
      },
      "source": [
        "## Importar módulos relevantes\n",
        "\n",
        "A célula a seguir importa os pacotes que o programa requer:"
      ]
    },
    {
      "cell_type": "code",
      "metadata": {
        "id": "sgy0S-LIYNVi",
        "colab_type": "code",
        "colab": {}
      },
      "source": [
        "import pandas as pd\n",
        "import tensorflow as tf\n",
        "from matplotlib import pyplot as plt"
      ],
      "execution_count": 0,
      "outputs": []
    },
    {
      "cell_type": "markdown",
      "metadata": {
        "id": "-UkLiaUbce4w",
        "colab_type": "text"
      },
      "source": [
        "## Definir funções que constroem e treinam um modelo\n",
        "\n",
        "O código a seguir define duas funções:\n",
        "\n",
        "  * `build_model(my_learning_rate)`, que cria um modelo vazio.\n",
        "  * `train_model(model, feature, label, epochs)`, que treina o modelo a partir dos exemplos (feature e label) que você passa.\n"
      ]
    },
    {
      "cell_type": "code",
      "metadata": {
        "id": "FAHngJN6ch7L",
        "colab_type": "code",
        "outputId": "4042c2eb-cc9a-4aeb-89fc-7166571729ba",
        "colab": {
          "base_uri": "https://localhost:8080/",
          "height": 34
        }
      },
      "source": [
        "# Define the functions that build and train a model\n",
        "def build_model(my_learning_rate):\n",
        "  \"\"\"Create and compile a simple linear regression model.\"\"\"\n",
        "  # Most simple tf.keras models are sequential. \n",
        "  # A sequential model contains one or more layers.\n",
        "  model = tf.keras.models.Sequential()\n",
        "\n",
        "  # Describe the topography of the model.\n",
        "  # The topography of a simple linear regression model\n",
        "  # is a single node in a single layer. \n",
        "  model.add(tf.keras.layers.Dense(units=1, \n",
        "                                  input_shape=(1,)))\n",
        "\n",
        "  # Compile the model topography into code that \n",
        "  # TensorFlow can efficiently execute. Configure \n",
        "  # training to minimize the model's mean squared error. \n",
        "  model.compile(optimizer=tf.keras.optimizers.RMSprop(lr=my_learning_rate),\n",
        "                loss=\"mean_squared_error\",\n",
        "                metrics=[tf.keras.metrics.RootMeanSquaredError()])\n",
        "\n",
        "  return model           \n",
        "\n",
        "\n",
        "def train_model(model, feature, label, epochs, batch_size):\n",
        "  \"\"\"Train the model by feeding it data.\"\"\"\n",
        "\n",
        "  # Feed the feature values and the label values to the \n",
        "  # model. The model will train for the specified number \n",
        "  # of epochs, gradually learning how the feature values\n",
        "  # relate to the label values. \n",
        "  history = model.fit(x=feature,\n",
        "                      y=label,\n",
        "                      batch_size=batch_size,\n",
        "                      epochs=epochs)\n",
        "\n",
        "  # Gather the trained model's weight and bias.\n",
        "  trained_weight = model.get_weights()[0]\n",
        "  trained_bias = model.get_weights()[1]\n",
        "\n",
        "  # The list of epochs is stored separately from the \n",
        "  # rest of history.\n",
        "  epochs = history.epoch\n",
        "  \n",
        "  # Gather the history (a snapshot) of each epoch.\n",
        "  hist = pd.DataFrame(history.history)\n",
        "\n",
        "  # Specifically gather the model's root mean \n",
        "  #squared error at each epoch. \n",
        "  rmse = hist[\"root_mean_squared_error\"]\n",
        "\n",
        "  return trained_weight, trained_bias, epochs, rmse\n",
        "\n",
        "print(\"Defined create_model and train_model\")"
      ],
      "execution_count": 7,
      "outputs": [
        {
          "output_type": "stream",
          "text": [
            "Defined create_model and train_model\n"
          ],
          "name": "stdout"
        }
      ]
    },
    {
      "cell_type": "markdown",
      "metadata": {
        "id": "kz_c1GgkqYmp",
        "colab_type": "text"
      },
      "source": [
        "## Definir funções de plotagem de gráficos\n",
        "\n",
        "Estamos usando uma biblioteca Python popular chamada Matplotlib [[21]](https://developers.google.com/machine-learning/glossary/#matplotlib) para criar os dois seguintes gráficos:\n",
        "\n",
        "* um gráfico dos valores dos recursos (feature) vs. os valores dos rótulos (label) e uma linha mostrando a saída do modelo treinado. \n",
        "*  uma curva de perda [[22]](https://developers.google.com/machine-learning/glossary/#loss_curve).\n"
      ]
    },
    {
      "cell_type": "code",
      "metadata": {
        "id": "p0BUa3TmqbXJ",
        "colab_type": "code",
        "outputId": "e0b4f8a1-039f-408b-8f22-895f8d1da323",
        "colab": {
          "base_uri": "https://localhost:8080/",
          "height": 34
        }
      },
      "source": [
        "# Define the plotting functions\n",
        "def plot_the_model(trained_weight, trained_bias, feature, label):\n",
        "  \"\"\"Plot the trained model against the training feature and label.\"\"\"\n",
        "\n",
        "  # Label the axes.\n",
        "  plt.xlabel(\"Preço\")\n",
        "  plt.ylabel(\"Dividendo 12 meses (x100)\")\n",
        "\n",
        "  # Plot the feature values vs. label values.\n",
        "  plt.scatter(feature, label)\n",
        "\n",
        "  # Create a red line representing the model. The red line starts\n",
        "  # at coordinates (x0, y0) and ends at coordinates (x1, y1).\n",
        "  x0 = 0\n",
        "  y0 = trained_bias\n",
        "  x1 = max(my_feature)*1.1 # Define o ponto final da linha vermelha para além do último ponto no gráfico\n",
        "  y1 = trained_bias + (trained_weight * x1)\n",
        "  plt.plot([x0, x1], [y0, y1], c='r')\n",
        "\n",
        "  ##########################\n",
        "  # Adicionar os tickers de cada ação no gráfico\n",
        "  # zip joins x and y coordinates in pairs\n",
        "  i=0\n",
        "  for x,y in zip(feature,label):\n",
        "    #label = \"{:.2f}\".format(y)\n",
        "    label = ticker[i]\n",
        "    i=i+1\n",
        "    plt.annotate(label, # this is the text\n",
        "                 (x,y), # this is the point to label\n",
        "                 textcoords=\"offset points\", # how to position the text\n",
        "                 xytext=(5,-2.5), # distance from text to points (x,y)\n",
        "                 ha='left') # horizontal alignment can be left, right or center\n",
        "  ##########################\n",
        "\n",
        "  # Render the scatter plot and the red line.\n",
        "  plt.show()\n",
        "\n",
        "def plot_the_loss_curve(epochs, rmse):\n",
        "  \"\"\"Plot the loss curve, which shows loss vs. epoch.\"\"\"\n",
        "\n",
        "  plt.figure()\n",
        "  plt.xlabel(\"Epoch\")\n",
        "  plt.ylabel(\"Root Mean Squared Error\")\n",
        "\n",
        "  plt.plot(epochs, rmse, label=\"Loss\")\n",
        "  plt.legend()\n",
        "  plt.ylim([rmse.min()*0.97, rmse.max()])\n",
        "  plt.show()\n",
        "\n",
        "print(\"Defined the plot_the_model and plot_the_loss_curve functions.\")"
      ],
      "execution_count": 8,
      "outputs": [
        {
          "output_type": "stream",
          "text": [
            "Defined the plot_the_model and plot_the_loss_curve functions.\n"
          ],
          "name": "stdout"
        }
      ]
    },
    {
      "cell_type": "markdown",
      "metadata": {
        "id": "XXdZ9YIWqn9F",
        "colab_type": "text"
      },
      "source": [
        "## Definir o conjunto de dados\n",
        "\n",
        "* Feature: Cotações de ações do setor elétrico.\n",
        "* Label: Dividendos acumulados em 12 meses, multiplicados por 100.\n",
        "\n",
        "A tabela abaixo apresenta a cotação das empresas avaliadas no dia 21/05/2020 extraídas da plataforma StatusInvest [[23]](https://statusinvest.com.br), bem como o total de dividendos pagos nos últimos 12 meses e o dividend yield, calculado a partir dos dois primeiros valores:\n",
        "\n",
        "\n",
        "\n",
        ">TICKER | PRECO | Dividendos 12 meses | DY\n",
        ">--- | --- | --- | ---\n",
        ">TRPL4 | 19,09 | 1,739099 | 9,11%\n",
        ">TAEE11 | 27,09 | 2,324322 | 8,58%\n",
        ">CESP6 | 26,36 | 1,850472 | 7,02%\n",
        ">TIET11 | 13,41 | 0,690615 | 5,15%\n",
        ">GEPA4 | 43,99 | 1,992747 | 4,53%\n",
        ">CPLE6 | 57,05 | 2,46456 | 4,32%\n",
        ">COCE5 | 52 | 2,1216 | 4,08%\n",
        ">EGIE3 | 39,03 | 1,529976 | 3,92%\n",
        ">ENBR3 | 15,74 | 0,583954 | 3,71%\n",
        ">CMIG4 | 8,83 | 0,274613 | 3,11%\n",
        ">ALUP11 | 23,58 | 0,690894 | 2,93%\n",
        ">CEEB3 | 38,5 | 1,1011 | 2,86%\n",
        ">NEOE3 | 16,03 | 0,458458 | 2,86%\n",
        ">ENGI11 | 41,71 | 0,600624 | 1,44%\n",
        ">ELET6 | 26,02 | 0 | 0%\n",
        ">EQTL3 | 17,5 | 0 | 0%\n",
        "\n"
      ]
    },
    {
      "cell_type": "code",
      "metadata": {
        "id": "72sIi2SiqqyO",
        "colab_type": "code",
        "colab": {}
      },
      "source": [
        "my_feature   = ([23.58,38.5,26.36,8.83,52,57.05,39.03,26.02,15.74,41.71,17.5,43.99,16.03,27.09,13.41,19.09])\n",
        "my_label = ([69.0894,110.11,185.0472,27.4613,212.16,246.456,152.9976,0,58.3954,60.0624,0,199.2747,45.8458,232.4322,69.0615,173.9099])\n",
        "ticker = ([\"ALUP11\",\"CEEB3\",\"CESP6\",\"CMIG4\",\"COCE5\",\"CPLE6\",\"EGIE3\",\"ELET6\",\"ENBR3\",\"ENGI11\",\"EQTL3\",\"GEPA4\",\"NEOE3\",\"TAEE11\",\"TIET11\",\"TRPL4\"])\n",
        "\n"
      ],
      "execution_count": 0,
      "outputs": []
    },
    {
      "cell_type": "markdown",
      "metadata": {
        "id": "X4Ybqkk9qt4h",
        "colab_type": "text"
      },
      "source": [
        "## Especificando os hiperparâmetros e executando\n",
        "\n",
        "Os hiperparâmetros neste algoritmo são os seguintes:\n",
        "\n",
        "  * learning rate [[24]](https://developers.google.com/machine-learning/glossary/#learning_rate)\n",
        "  * epochs [[25]](https://developers.google.com/machine-learning/glossary/#epoch)\n",
        "  * batch_size [[26]](https://developers.google.com/machine-learning/glossary/#batch_size)\n",
        "\n",
        "O código a seguir inicializa esses hiperparâmetros e, em seguida, chama as funções que constroem e treinam o modelo."
      ]
    },
    {
      "cell_type": "code",
      "metadata": {
        "id": "D2DD4dsZqxzv",
        "colab_type": "code",
        "outputId": "56e69eb0-40f8-411a-d8c7-813eb98cd7bc",
        "colab": {
          "base_uri": "https://localhost:8080/",
          "height": 1000
        }
      },
      "source": [
        "learning_rate=0.1\n",
        "epochs=100\n",
        "my_batch_size=16\n",
        "\n",
        "my_model = build_model(learning_rate)\n",
        "trained_weight, trained_bias, epochs, rmse = train_model(my_model, my_feature, \n",
        "                                                         my_label, epochs,\n",
        "                                                         my_batch_size)\n",
        "plot_the_model(trained_weight, trained_bias, my_feature, my_label)\n",
        "plot_the_loss_curve(epochs, rmse)"
      ],
      "execution_count": 10,
      "outputs": [
        {
          "output_type": "stream",
          "text": [
            "Epoch 1/100\n",
            "1/1 [==============================] - 0s 1ms/step - loss: 27983.1426 - root_mean_squared_error: 167.2816\n",
            "Epoch 2/100\n",
            "1/1 [==============================] - 0s 977us/step - loss: 24830.3398 - root_mean_squared_error: 157.5765\n",
            "Epoch 3/100\n",
            "1/1 [==============================] - 0s 995us/step - loss: 22752.2598 - root_mean_squared_error: 150.8385\n",
            "Epoch 4/100\n",
            "1/1 [==============================] - 0s 1ms/step - loss: 21130.9805 - root_mean_squared_error: 145.3650\n",
            "Epoch 5/100\n",
            "1/1 [==============================] - 0s 959us/step - loss: 19776.2539 - root_mean_squared_error: 140.6281\n",
            "Epoch 6/100\n",
            "1/1 [==============================] - 0s 1ms/step - loss: 18601.1191 - root_mean_squared_error: 136.3859\n",
            "Epoch 7/100\n",
            "1/1 [==============================] - 0s 1ms/step - loss: 17557.5938 - root_mean_squared_error: 132.5051\n",
            "Epoch 8/100\n",
            "1/1 [==============================] - 0s 835us/step - loss: 16616.0430 - root_mean_squared_error: 128.9032\n",
            "Epoch 9/100\n",
            "1/1 [==============================] - 0s 1ms/step - loss: 15756.7285 - root_mean_squared_error: 125.5258\n",
            "Epoch 10/100\n",
            "1/1 [==============================] - 0s 950us/step - loss: 14965.7734 - root_mean_squared_error: 122.3347\n",
            "Epoch 11/100\n",
            "1/1 [==============================] - 0s 2ms/step - loss: 14233.0039 - root_mean_squared_error: 119.3022\n",
            "Epoch 12/100\n",
            "1/1 [==============================] - 0s 893us/step - loss: 13550.7266 - root_mean_squared_error: 116.4076\n",
            "Epoch 13/100\n",
            "1/1 [==============================] - 0s 1ms/step - loss: 12912.9609 - root_mean_squared_error: 113.6352\n",
            "Epoch 14/100\n",
            "1/1 [==============================] - 0s 1ms/step - loss: 12314.9668 - root_mean_squared_error: 110.9728\n",
            "Epoch 15/100\n",
            "1/1 [==============================] - 0s 1ms/step - loss: 11752.9111 - root_mean_squared_error: 108.4108\n",
            "Epoch 16/100\n",
            "1/1 [==============================] - 0s 1ms/step - loss: 11223.6465 - root_mean_squared_error: 105.9417\n",
            "Epoch 17/100\n",
            "1/1 [==============================] - 0s 1ms/step - loss: 10724.5537 - root_mean_squared_error: 103.5594\n",
            "Epoch 18/100\n",
            "1/1 [==============================] - 0s 949us/step - loss: 10253.4229 - root_mean_squared_error: 101.2592\n",
            "Epoch 19/100\n",
            "1/1 [==============================] - 0s 897us/step - loss: 9808.3730 - root_mean_squared_error: 99.0372\n",
            "Epoch 20/100\n",
            "1/1 [==============================] - 0s 1ms/step - loss: 9387.7832 - root_mean_squared_error: 96.8906\n",
            "Epoch 21/100\n",
            "1/1 [==============================] - 0s 878us/step - loss: 8990.2393 - root_mean_squared_error: 94.8169\n",
            "Epoch 22/100\n",
            "1/1 [==============================] - 0s 1ms/step - loss: 8614.5020 - root_mean_squared_error: 92.8143\n",
            "Epoch 23/100\n",
            "1/1 [==============================] - 0s 989us/step - loss: 8259.4736 - root_mean_squared_error: 90.8816\n",
            "Epoch 24/100\n",
            "1/1 [==============================] - 0s 1ms/step - loss: 7924.1699 - root_mean_squared_error: 89.0178\n",
            "Epoch 25/100\n",
            "1/1 [==============================] - 0s 927us/step - loss: 7607.7002 - root_mean_squared_error: 87.2221\n",
            "Epoch 26/100\n",
            "1/1 [==============================] - 0s 1ms/step - loss: 7309.2583 - root_mean_squared_error: 85.4942\n",
            "Epoch 27/100\n",
            "1/1 [==============================] - 0s 1ms/step - loss: 7028.1016 - root_mean_squared_error: 83.8338\n",
            "Epoch 28/100\n",
            "1/1 [==============================] - 0s 895us/step - loss: 6763.5410 - root_mean_squared_error: 82.2408\n",
            "Epoch 29/100\n",
            "1/1 [==============================] - 0s 1ms/step - loss: 6514.9331 - root_mean_squared_error: 80.7151\n",
            "Epoch 30/100\n",
            "1/1 [==============================] - 0s 980us/step - loss: 6281.6729 - root_mean_squared_error: 79.2570\n",
            "Epoch 31/100\n",
            "1/1 [==============================] - 0s 1ms/step - loss: 6063.1855 - root_mean_squared_error: 77.8665\n",
            "Epoch 32/100\n",
            "1/1 [==============================] - 0s 931us/step - loss: 5858.9199 - root_mean_squared_error: 76.5436\n",
            "Epoch 33/100\n",
            "1/1 [==============================] - 0s 825us/step - loss: 5668.3447 - root_mean_squared_error: 75.2884\n",
            "Epoch 34/100\n",
            "1/1 [==============================] - 0s 2ms/step - loss: 5490.9453 - root_mean_squared_error: 74.1009\n",
            "Epoch 35/100\n",
            "1/1 [==============================] - 0s 1ms/step - loss: 5326.2148 - root_mean_squared_error: 72.9809\n",
            "Epoch 36/100\n",
            "1/1 [==============================] - 0s 2ms/step - loss: 5173.6621 - root_mean_squared_error: 71.9282\n",
            "Epoch 37/100\n",
            "1/1 [==============================] - 0s 1ms/step - loss: 5032.7949 - root_mean_squared_error: 70.9422\n",
            "Epoch 38/100\n",
            "1/1 [==============================] - 0s 1ms/step - loss: 4903.1289 - root_mean_squared_error: 70.0223\n",
            "Epoch 39/100\n",
            "1/1 [==============================] - 0s 2ms/step - loss: 4784.1792 - root_mean_squared_error: 69.1678\n",
            "Epoch 40/100\n",
            "1/1 [==============================] - 0s 2ms/step - loss: 4675.4619 - root_mean_squared_error: 68.3773\n",
            "Epoch 41/100\n",
            "1/1 [==============================] - 0s 3ms/step - loss: 4576.4932 - root_mean_squared_error: 67.6498\n",
            "Epoch 42/100\n",
            "1/1 [==============================] - 0s 1ms/step - loss: 4486.7852 - root_mean_squared_error: 66.9835\n",
            "Epoch 43/100\n",
            "1/1 [==============================] - 0s 1ms/step - loss: 4405.8496 - root_mean_squared_error: 66.3766\n",
            "Epoch 44/100\n",
            "1/1 [==============================] - 0s 870us/step - loss: 4333.1934 - root_mean_squared_error: 65.8270\n",
            "Epoch 45/100\n",
            "1/1 [==============================] - 0s 1ms/step - loss: 4268.3232 - root_mean_squared_error: 65.3324\n",
            "Epoch 46/100\n",
            "1/1 [==============================] - 0s 924us/step - loss: 4210.7422 - root_mean_squared_error: 64.8902\n",
            "Epoch 47/100\n",
            "1/1 [==============================] - 0s 967us/step - loss: 4159.9551 - root_mean_squared_error: 64.4977\n",
            "Epoch 48/100\n",
            "1/1 [==============================] - 0s 992us/step - loss: 4115.4648 - root_mean_squared_error: 64.1519\n",
            "Epoch 49/100\n",
            "1/1 [==============================] - 0s 880us/step - loss: 4076.7773 - root_mean_squared_error: 63.8496\n",
            "Epoch 50/100\n",
            "1/1 [==============================] - 0s 1ms/step - loss: 4043.4028 - root_mean_squared_error: 63.5878\n",
            "Epoch 51/100\n",
            "1/1 [==============================] - 0s 925us/step - loss: 4014.8574 - root_mean_squared_error: 63.3629\n",
            "Epoch 52/100\n",
            "1/1 [==============================] - 0s 884us/step - loss: 3990.6699 - root_mean_squared_error: 63.1717\n",
            "Epoch 53/100\n",
            "1/1 [==============================] - 0s 997us/step - loss: 3970.3784 - root_mean_squared_error: 63.0109\n",
            "Epoch 54/100\n",
            "1/1 [==============================] - 0s 912us/step - loss: 3953.5388 - root_mean_squared_error: 62.8772\n",
            "Epoch 55/100\n",
            "1/1 [==============================] - 0s 1ms/step - loss: 3939.7266 - root_mean_squared_error: 62.7672\n",
            "Epoch 56/100\n",
            "1/1 [==============================] - 0s 4ms/step - loss: 3928.5383 - root_mean_squared_error: 62.6781\n",
            "Epoch 57/100\n",
            "1/1 [==============================] - 0s 979us/step - loss: 3919.5977 - root_mean_squared_error: 62.6067\n",
            "Epoch 58/100\n",
            "1/1 [==============================] - 0s 2ms/step - loss: 3912.5562 - root_mean_squared_error: 62.5504\n",
            "Epoch 59/100\n",
            "1/1 [==============================] - 0s 2ms/step - loss: 3907.0977 - root_mean_squared_error: 62.5068\n",
            "Epoch 60/100\n",
            "1/1 [==============================] - 0s 1ms/step - loss: 3902.9363 - root_mean_squared_error: 62.4735\n",
            "Epoch 61/100\n",
            "1/1 [==============================] - 0s 911us/step - loss: 3899.8208 - root_mean_squared_error: 62.4485\n",
            "Epoch 62/100\n",
            "1/1 [==============================] - 0s 1ms/step - loss: 3897.5332 - root_mean_squared_error: 62.4302\n",
            "Epoch 63/100\n",
            "1/1 [==============================] - 0s 1ms/step - loss: 3895.8882 - root_mean_squared_error: 62.4170\n",
            "Epoch 64/100\n",
            "1/1 [==============================] - 0s 1ms/step - loss: 3894.7312 - root_mean_squared_error: 62.4078\n",
            "Epoch 65/100\n",
            "1/1 [==============================] - 0s 1ms/step - loss: 3893.9363 - root_mean_squared_error: 62.4014\n",
            "Epoch 66/100\n",
            "1/1 [==============================] - 0s 915us/step - loss: 3893.4043 - root_mean_squared_error: 62.3971\n",
            "Epoch 67/100\n",
            "1/1 [==============================] - 0s 1ms/step - loss: 3893.0576 - root_mean_squared_error: 62.3944\n",
            "Epoch 68/100\n",
            "1/1 [==============================] - 0s 872us/step - loss: 3892.8384 - root_mean_squared_error: 62.3926\n",
            "Epoch 69/100\n",
            "1/1 [==============================] - 0s 1ms/step - loss: 3892.7036 - root_mean_squared_error: 62.3915\n",
            "Epoch 70/100\n",
            "1/1 [==============================] - 0s 1ms/step - loss: 3892.6235 - root_mean_squared_error: 62.3909\n",
            "Epoch 71/100\n",
            "1/1 [==============================] - 0s 942us/step - loss: 3892.5771 - root_mean_squared_error: 62.3905\n",
            "Epoch 72/100\n",
            "1/1 [==============================] - 0s 1ms/step - loss: 3892.5513 - root_mean_squared_error: 62.3903\n",
            "Epoch 73/100\n",
            "1/1 [==============================] - 0s 1ms/step - loss: 3892.5371 - root_mean_squared_error: 62.3902\n",
            "Epoch 74/100\n",
            "1/1 [==============================] - 0s 1ms/step - loss: 3892.5298 - root_mean_squared_error: 62.3901\n",
            "Epoch 75/100\n",
            "1/1 [==============================] - 0s 1ms/step - loss: 3892.5249 - root_mean_squared_error: 62.3901\n",
            "Epoch 76/100\n",
            "1/1 [==============================] - 0s 866us/step - loss: 3892.5229 - root_mean_squared_error: 62.3901\n",
            "Epoch 77/100\n",
            "1/1 [==============================] - 0s 924us/step - loss: 3892.5205 - root_mean_squared_error: 62.3901\n",
            "Epoch 78/100\n",
            "1/1 [==============================] - 0s 1ms/step - loss: 3892.5188 - root_mean_squared_error: 62.3901\n",
            "Epoch 79/100\n",
            "1/1 [==============================] - 0s 1ms/step - loss: 3892.5176 - root_mean_squared_error: 62.3900\n",
            "Epoch 80/100\n",
            "1/1 [==============================] - 0s 1ms/step - loss: 3892.5156 - root_mean_squared_error: 62.3900\n",
            "Epoch 81/100\n",
            "1/1 [==============================] - 0s 1ms/step - loss: 3892.5142 - root_mean_squared_error: 62.3900\n",
            "Epoch 82/100\n",
            "1/1 [==============================] - 0s 2ms/step - loss: 3892.5125 - root_mean_squared_error: 62.3900\n",
            "Epoch 83/100\n",
            "1/1 [==============================] - 0s 1ms/step - loss: 3892.5107 - root_mean_squared_error: 62.3900\n",
            "Epoch 84/100\n",
            "1/1 [==============================] - 0s 888us/step - loss: 3892.5088 - root_mean_squared_error: 62.3900\n",
            "Epoch 85/100\n",
            "1/1 [==============================] - 0s 1ms/step - loss: 3892.5071 - root_mean_squared_error: 62.3900\n",
            "Epoch 86/100\n",
            "1/1 [==============================] - 0s 1ms/step - loss: 3892.5051 - root_mean_squared_error: 62.3899\n",
            "Epoch 87/100\n",
            "1/1 [==============================] - 0s 2ms/step - loss: 3892.5029 - root_mean_squared_error: 62.3899\n",
            "Epoch 88/100\n",
            "1/1 [==============================] - 0s 869us/step - loss: 3892.5005 - root_mean_squared_error: 62.3899\n",
            "Epoch 89/100\n",
            "1/1 [==============================] - 0s 951us/step - loss: 3892.4988 - root_mean_squared_error: 62.3899\n",
            "Epoch 90/100\n",
            "1/1 [==============================] - 0s 837us/step - loss: 3892.4958 - root_mean_squared_error: 62.3899\n",
            "Epoch 91/100\n",
            "1/1 [==============================] - 0s 905us/step - loss: 3892.4937 - root_mean_squared_error: 62.3899\n",
            "Epoch 92/100\n",
            "1/1 [==============================] - 0s 902us/step - loss: 3892.4907 - root_mean_squared_error: 62.3898\n",
            "Epoch 93/100\n",
            "1/1 [==============================] - 0s 1ms/step - loss: 3892.4883 - root_mean_squared_error: 62.3898\n",
            "Epoch 94/100\n",
            "1/1 [==============================] - 0s 1ms/step - loss: 3892.4854 - root_mean_squared_error: 62.3898\n",
            "Epoch 95/100\n",
            "1/1 [==============================] - 0s 915us/step - loss: 3892.4829 - root_mean_squared_error: 62.3898\n",
            "Epoch 96/100\n",
            "1/1 [==============================] - 0s 843us/step - loss: 3892.4795 - root_mean_squared_error: 62.3897\n",
            "Epoch 97/100\n",
            "1/1 [==============================] - 0s 979us/step - loss: 3892.4761 - root_mean_squared_error: 62.3897\n",
            "Epoch 98/100\n",
            "1/1 [==============================] - 0s 1ms/step - loss: 3892.4729 - root_mean_squared_error: 62.3897\n",
            "Epoch 99/100\n",
            "1/1 [==============================] - 0s 1ms/step - loss: 3892.4692 - root_mean_squared_error: 62.3897\n",
            "Epoch 100/100\n",
            "1/1 [==============================] - 0s 1ms/step - loss: 3892.4658 - root_mean_squared_error: 62.3896\n"
          ],
          "name": "stdout"
        },
        {
          "output_type": "display_data",
          "data": {
            "image/png": "[encoded data removed]",
            "text/plain": [
              "<Figure size 432x288 with 1 Axes>"
            ]
          },
          "metadata": {
            "tags": [],
            "needs_background": "light"
          }
        },
        {
          "output_type": "display_data",
          "data": {
            "image/png": "[encoded data removed]",
            "text/plain": [
              "<Figure size 432x288 with 1 Axes>"
            ]
          },
          "metadata": {
            "tags": [],
            "needs_background": "light"
          }
        }
      ]
    },
    {
      "cell_type": "markdown",
      "metadata": {
        "id": "2RntH6CNw0zA",
        "colab_type": "text"
      },
      "source": [
        "## Resultados\n",
        "\n",
        "Conforme pode ser observado nos gráficos acima, existe uma relação direta e linear entre a cotação das ações e o total de dividendos pagos pelas respectivas empresas aos acionistas. As ações que pagam mais dividendos tendem a ser negociadas a valores superiores àquelas que pagam menos dividendos. Em média, o valor pago em dividendo representa em torno de 4,5% da cotação da ação.\n",
        "\n",
        "Contudo, podemos observar que algumas ações distanciam-se da reta que modela os dados. Ou seja, para algumas ações o erro entre o valor real e o predito é maior. Dessas, TRPL4, TAEE11 e CESP6 destacam-se por estarem acima da reta. Nesse contexto, isso significa que essas 3 ações são as que apresentam *Dividend yield* mais atrativo, pois a porcentagem retornada ao acionista pelo preço pago pelas ações é maior. O *Dividend yield* de TRPL4, TAEE11 e CESP6 são os maiores do grupo de ações avaliado, sendo 9,11%, 8,58%, 7,02%, respectivamente.\n",
        "\n",
        "O segundo gráfico exibido acima mostra o Erro Quadrático Médio diminuindo a cada iteração do algoritmo, tendendo a zero quando um ponto ótimo é encontrado."
      ]
    },
    {
      "cell_type": "markdown",
      "metadata": {
        "id": "8D5b0We9BdvZ",
        "colab_type": "text"
      },
      "source": [
        "# Conclusão\n",
        "\n"
      ]
    },
    {
      "cell_type": "markdown",
      "metadata": {
        "id": "CiCGy1ZSewnl",
        "colab_type": "text"
      },
      "source": [
        "O presente trabalho apresentou a utilização de *Linear Regression* no contexto de análise do *Dividend yield* de ações de empresas do setor elétrico listadas na B3.\n",
        "\n",
        "Ademais, o presente trabalho demonstrou a utilização das bibliotecas TensorFlow, Keras e Pandas na ferramenta Google Colaboratory.\n",
        "\n",
        "Possíveis continuações do presente trabalho:\n",
        "* Testar o algoritmo com diferentes valores para os parâmetros *epoch*, *learning rate* e *batch size*.\n",
        "* Testar a relação entre outras métricas das ações. Por exemplo, a relação entre a cotação e o lucro da empresa.\n",
        "* Testar o algoritmo com mais de uma variável independente. Por exemplo, avaliar a cotação das ações em relação ao lucro e também ao nível de endividamento da empresa.\n",
        "\n"
      ]
    },
    {
      "cell_type": "markdown",
      "metadata": {
        "id": "ke_MzboDaSY0",
        "colab_type": "text"
      },
      "source": [
        "# Referências\n",
        "\n"
      ]
    },
    {
      "cell_type": "markdown",
      "metadata": {
        "id": "Rw07zN3Je6Qd",
        "colab_type": "text"
      },
      "source": [
        "\n",
        "* [1] http://www.b3.com.br/pt_br/noticias/pessoa-fisica.htm\n",
        "* [2] https://www.sunoresearch.com.br/artigos/investir-em-dividendos/\n",
        "* [3] https://www.schwab.com/active-trader/insights/content/dividend-yield-and-dividend-growth-fundamental-value-analytics\n",
        "* [4] https://www.youtube.com/watch?v=ARHsj34MDKw\n",
        "* [5] https://www.sunoresearch.com.br/artigos/dividendos/#9\n",
        "* [6] https://www.sunoresearch.com.br/artigos/resenha-de-livro-faca-fortuna-com-acoes-antes-que-seja-tarde-de-decio-bazin/\n",
        "* [7] https://exame.com/mercados/louise-barsi-ensina-como-investir-como-o-pai-bilionario/\n",
        "* [8] http://www.b3.com.br\n",
        "* [9] https://spin.atomicobject.com/2014/06/24/gradient-descent-linear-regression/\n",
        "* [10] https://towardsdatascience.com/linear-regression-using-gradient-descent-97a6c8700931\n",
        "* [11] https://towardsdatascience.com/gradient-descent-from-scratch-e8b75fa986cc\n",
        "* [12] https://machinelearningmastery.com/implement-linear-regression-stochastic-gradient-descent-scratch-python/\n",
        "* [13] https://www.deeplearningbook.org/\n",
        "* [14] https://developers.google.com/machine-learning/crash-course/ml-intro\n",
        "* [15] https://www.machinelearningmindset.com/linear-regression-with-tensorflow/\n",
        "* [16] https://www.tensorflow.org/\n",
        "* [17] https://keras.io/\n",
        "* [18] https://pandas.pydata.org/\n",
        "* [19] https://colab.research.google.com/notebooks/intro.ipynb#scrollTo=OwuxHmxllTwN\n",
        "* [20] https://colab.research.google.com/github/google/eng-edu/blob/master/ml/cc/exercises/linear_regression_with_synthetic_data.ipynb?hl=en\n",
        "* [21] https://developers.google.com/machine-learning/glossary/#matplotlib\n",
        "* [22] https://developers.google.com/machine-learning/glossary/#loss_curve\n",
        "* [23] https://statusinvest.com.br\n",
        "* [24] https://developers.google.com/machine-learning/glossary/#learning_rate\n",
        "* [25] https://developers.google.com/machine-learning/glossary/#epoch\n",
        "* [26] https://developers.google.com/machine-learning/glossary/#batch_size\n"
      ]
    }
  ]
}